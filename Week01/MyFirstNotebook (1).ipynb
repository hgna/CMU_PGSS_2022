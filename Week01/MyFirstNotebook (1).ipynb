{
  "nbformat": 4,
  "nbformat_minor": 0,
  "metadata": {
    "colab": {
      "name": "MyFirstNotebook.ipynb",
      "provenance": [],
      "toc_visible": true
    },
    "kernelspec": {
      "name": "python3",
      "display_name": "Python 3"
    },
    "language_info": {
      "name": "python"
    }
  },
  "cells": [
    {
      "cell_type": "markdown",
      "source": [
        "# first notebook "
      ],
      "metadata": {
        "id": "eeArD8bMu0A8"
      }
    },
    {
      "cell_type": "code",
      "source": [
        "# read the csv file iris.csv\n",
        "import pandas as pd #file reader library\n",
        "\n",
        "df = pd.read_csv(\"/content/drive/MyDrive/PGSS2022_Student/PGSS2022/L1--6-28-2022/iris.csv\")\n",
        "\n",
        "df.columns=['Sepal.Length', 'Sepal.Width', 'Petal.Length', 'Petal.Width', 'Class']\n",
        "df #stands for directory file"
      ],
      "metadata": {
        "id": "rfVcw4Ggu9E5"
      },
      "execution_count": null,
      "outputs": []
    },
    {
      "cell_type": "code",
      "source": [
        "! pwd "
      ],
      "metadata": {
        "colab": {
          "base_uri": "https://localhost:8080/"
        },
        "id": "6XBmQ74Dxi3g",
        "outputId": "bb0ae6fd-3882-4533-b0d4-fa33f432d7bb"
      },
      "execution_count": 6,
      "outputs": [
        {
          "output_type": "stream",
          "name": "stdout",
          "text": [
            "/content\n"
          ]
        }
      ]
    },
    {
      "cell_type": "code",
      "source": [
        "! top"
      ],
      "metadata": {
        "colab": {
          "base_uri": "https://localhost:8080/"
        },
        "id": "XZJF5QiCxuah",
        "outputId": "1c9abc0d-3adf-4389-bd51-59e673695f86"
      },
      "execution_count": 7,
      "outputs": [
        {
          "output_type": "stream",
          "name": "stdout",
          "text": [
            "\u001b[?1h\u001b=\u001b[H\u001b[2J\u001b[mtop - 19:29:19 up 16 min,  0 users,  load average: 0.12, 0.19, 0.20\u001b[m\u001b[m\u001b[m\u001b[m\u001b[K\n",
            "Tasks:\u001b[m\u001b[m\u001b[1m  19 \u001b[m\u001b[mtotal,\u001b[m\u001b[m\u001b[1m   1 \u001b[m\u001b[mrunning,\u001b[m\u001b[m\u001b[1m  17 \u001b[m\u001b[msleeping,\u001b[m\u001b[m\u001b[1m   0 \u001b[m\u001b[mstopped,\u001b[m\u001b[m\u001b[1m   1 \u001b[m\u001b[mzombie\u001b[m\u001b[m\u001b[m\u001b[m\u001b[K\n",
            "%Cpu(s):\u001b[m\u001b[m\u001b[1m 10.0 \u001b[m\u001b[mus,\u001b[m\u001b[m\u001b[1m  2.0 \u001b[m\u001b[msy,\u001b[m\u001b[m\u001b[1m  0.0 \u001b[m\u001b[mni,\u001b[m\u001b[m\u001b[1m 87.1 \u001b[m\u001b[mid,\u001b[m\u001b[m\u001b[1m  0.8 \u001b[m\u001b[mwa,\u001b[m\u001b[m\u001b[1m  0.0 \u001b[m\u001b[mhi,\u001b[m\u001b[m\u001b[1m  0.1 \u001b[m\u001b[msi,\u001b[m\u001b[m\u001b[1m  0.0 \u001b[m\u001b[mst\u001b[m\u001b[m\u001b[m\u001b[m\u001b[K\n",
            "KiB Mem :\u001b[m\u001b[m\u001b[1m 13298572 \u001b[m\u001b[mtotal,\u001b[m\u001b[m\u001b[1m 10034888 \u001b[m\u001b[mfree,\u001b[m\u001b[m\u001b[1m  1095768 \u001b[m\u001b[mused,\u001b[m\u001b[m\u001b[1m  2167916 \u001b[m\u001b[mbuff/cache\u001b[m\u001b[m\u001b[m\u001b[m\u001b[K\n",
            "KiB Swap:\u001b[m\u001b[m\u001b[1m        0 \u001b[m\u001b[mtotal,\u001b[m\u001b[m\u001b[1m        0 \u001b[m\u001b[mfree,\u001b[m\u001b[m\u001b[1m        0 \u001b[m\u001b[mused.\u001b[m\u001b[m\u001b[1m 12023244 \u001b[m\u001b[mavail Mem \u001b[m\u001b[m\u001b[m\u001b[m\u001b[K\n",
            "\u001b[K\n",
            "\u001b[7m    PID USER      PR  NI    VIRT    RES    SHR S  %CPU %MEM     TIME+ COMMAND   \u001b[m\u001b[m\u001b[K\n",
            "\u001b[m     98 root      20   0  924916 505972  31476 S 162.5  3.8   2:12.63 node      \u001b[m\u001b[m\u001b[K\n",
            "\u001b[m     61 root      20   0  621864 168780  54656 S   6.2  1.3   0:08.45 python3   \u001b[m\u001b[m\u001b[K\n",
            "\u001b[m      1 root      20   0     992      4      0 S   0.0  0.0   0:00.59 docker-i+ \u001b[m\u001b[m\u001b[K\n",
            "\u001b[m      7 root      20   0  344864  55800  32816 S   0.0  0.4   0:02.77 node      \u001b[m\u001b[m\u001b[K\n",
            "\u001b[m     18 root      20   0   35892   4844   3736 S   0.0  0.0   0:00.61 tail      \u001b[m\u001b[m\u001b[K\n",
            "\u001b[m     29 root      20   0       0      0      0 Z   0.0  0.0   0:05.73 python3   \u001b[m\u001b[m\u001b[K\n",
            "\u001b[m     30 root      20   0  156136  41128  12744 S   0.0  0.3   0:00.98 colab-fi+ \u001b[m\u001b[m\u001b[K\n",
            "\u001b[m     43 root      20   0  199296  60712  15280 S   0.0  0.5   0:02.89 jupyter-+ \u001b[m\u001b[m\u001b[K\n",
            "\u001b[m     44 root      20   0  715340   5788   4216 S   0.0  0.0   0:00.18 dap_mult+ \u001b[m\u001b[m\u001b[K\n",
            "\u001b[m     81 root      20   0  127184  15404   6092 S   0.0  0.1   0:00.07 python3   \u001b[m\u001b[m\u001b[K\n",
            "\u001b[m    132 root      20   0   18380   1500   1200 S   0.0  0.0   0:00.00 bash      \u001b[m\u001b[m\u001b[K\n",
            "\u001b[m    133 root      20   0 2194000  23716  19172 S   0.0  0.2   0:00.04 drive     \u001b[m\u001b[m\u001b[K\n",
            "\u001b[m    134 root      20   0   11464   1024    924 S   0.0  0.0   0:00.00 grep      \u001b[m\u001b[m\u001b[K\n",
            "\u001b[m    196 root      20   0 2654844  53480  35868 S   0.0  0.4   0:00.90 drive     \u001b[m\u001b[m\u001b[K\n",
            "\u001b[m    268 root      20   0   18380   3060   2812 S   0.0  0.0   0:00.00 bash      \u001b[m\u001b[m\u001b[K\n",
            "\u001b[m    269 root      20   0  712304   4424   2168 S   0.0  0.0   0:00.05 director+ \u001b[m\u001b[m\u001b[K\n",
            "\u001b[m    270 root      20   0    4572    876    816 S   0.0  0.0   0:00.04 tail      \u001b[m\u001b[m\u001b[K\u001b[H\u001b[mtop - 19:29:22 up 16 min,  0 users,  load average: 0.12, 0.19, 0.20\u001b[m\u001b[m\u001b[m\u001b[m\u001b[K\n",
            "Tasks:\u001b[m\u001b[m\u001b[1m  19 \u001b[m\u001b[mtotal,\u001b[m\u001b[m\u001b[1m   1 \u001b[m\u001b[mrunning,\u001b[m\u001b[m\u001b[1m  17 \u001b[m\u001b[msleeping,\u001b[m\u001b[m\u001b[1m   0 \u001b[m\u001b[mstopped,\u001b[m\u001b[m\u001b[1m   1 \u001b[m\u001b[mzombie\u001b[m\u001b[m\u001b[m\u001b[m\u001b[K\n",
            "%Cpu(s):\u001b[m\u001b[m\u001b[1m 41.6 \u001b[m\u001b[mus,\u001b[m\u001b[m\u001b[1m  2.2 \u001b[m\u001b[msy,\u001b[m\u001b[m\u001b[1m  0.0 \u001b[m\u001b[mni,\u001b[m\u001b[m\u001b[1m 55.9 \u001b[m\u001b[mid,\u001b[m\u001b[m\u001b[1m  0.0 \u001b[m\u001b[mwa,\u001b[m\u001b[m\u001b[1m  0.0 \u001b[m\u001b[mhi,\u001b[m\u001b[m\u001b[1m  0.3 \u001b[m\u001b[msi,\u001b[m\u001b[m\u001b[1m  0.0 \u001b[m\u001b[mst\u001b[m\u001b[m\u001b[m\u001b[m\u001b[K\n",
            "KiB Mem :\u001b[m\u001b[m\u001b[1m 13298572 \u001b[m\u001b[mtotal,\u001b[m\u001b[m\u001b[1m 10013248 \u001b[m\u001b[mfree,\u001b[m\u001b[m\u001b[1m  1117284 \u001b[m\u001b[mused,\u001b[m\u001b[m\u001b[1m  2168040 \u001b[m\u001b[mbuff/cache\u001b[m\u001b[m\u001b[m\u001b[m\u001b[K\n",
            "KiB Swap:\u001b[m\u001b[m\u001b[1m        0 \u001b[m\u001b[mtotal,\u001b[m\u001b[m\u001b[1m        0 \u001b[m\u001b[mfree,\u001b[m\u001b[m\u001b[1m        0 \u001b[m\u001b[mused.\u001b[m\u001b[m\u001b[1m 12001944 \u001b[m\u001b[mavail Mem \u001b[m\u001b[m\u001b[m\u001b[m\u001b[K\n",
            "\u001b[K\n",
            "\n",
            "\u001b[m     98 root      20   0  927580 525464  31476 S  78.7  4.0   2:14.99 node      \u001b[m\u001b[m\u001b[K\n",
            "\u001b[m     61 root      20   0  621864 168780  54656 S   1.0  1.3   0:08.48 python3   \u001b[m\u001b[m\u001b[K\n",
            "\u001b[m     81 root      20   0  127184  15404   6092 S   1.0  0.1   0:00.10 python3   \u001b[m\u001b[m\u001b[K\n",
            "\u001b[m    196 root      20   0 2654844  53480  35868 S   1.0  0.4   0:00.93 drive     \u001b[m\u001b[m\u001b[K\n",
            "\u001b[m      7 root      20   0  344864  56060  32816 S   0.7  0.4   0:02.79 node      \u001b[m\u001b[m\u001b[K\n",
            "\u001b[m     43 root      20   0  199296  60716  15280 S   0.7  0.5   0:02.91 jupyter-+ \u001b[m\u001b[m\u001b[K\n",
            "\u001b[m      1 root      20   0     992      4      0 S   0.0  0.0   0:00.59 docker-i+ \u001b[m\u001b[m\u001b[K\n",
            "\u001b[m     18 root      20   0   35892   4844   3736 S   0.0  0.0   0:00.61 tail      \u001b[m\u001b[m\u001b[K\n",
            "\u001b[m     29 root      20   0       0      0      0 Z   0.0  0.0   0:05.73 python3   \u001b[m\u001b[m\u001b[K\n",
            "\u001b[m     30 root      20   0  156136  41128  12744 S   0.0  0.3   0:00.98 colab-fi+ \u001b[m\u001b[m\u001b[K\n",
            "\u001b[m     44 root      20   0  715340   6496   4220 S   0.0  0.0   0:00.18 dap_mult+ \u001b[m\u001b[m\u001b[K\n",
            "\u001b[m    132 root      20   0   18380   1500   1200 S   0.0  0.0   0:00.00 bash      \u001b[m\u001b[m\u001b[K\n",
            "\u001b[m    133 root      20   0 2194000  23716  19172 S   0.0  0.2   0:00.04 drive     \u001b[m\u001b[m\u001b[K\n",
            "\u001b[m    134 root      20   0   11464   1024    924 S   0.0  0.0   0:00.00 grep      \u001b[m\u001b[m\u001b[K\n",
            "\n",
            "\n",
            "\u001b[?1l\u001b>\u001b[25;1H\n",
            "\u001b[K"
          ]
        }
      ]
    },
    {
      "cell_type": "markdown",
      "source": [
        "# exploratory analysis of the data loaded from the github version of iris.csv"
      ],
      "metadata": {
        "id": "lSVrgB7C2pEs"
      }
    },
    {
      "cell_type": "code",
      "source": [
        "df['Class'].value_counts()"
      ],
      "metadata": {
        "colab": {
          "base_uri": "https://localhost:8080/"
        },
        "id": "LkkOAAUD2tyg",
        "outputId": "fa3766e7-cea2-4017-c999-81770c9bcb20"
      },
      "execution_count": 10,
      "outputs": [
        {
          "output_type": "execute_result",
          "data": {
            "text/plain": [
              "Iris-versicolor    50\n",
              "Iris-virginica     50\n",
              "Iris-setosa        49\n",
              "Name: Class, dtype: int64"
            ]
          },
          "metadata": {},
          "execution_count": 10
        }
      ]
    },
    {
      "cell_type": "code",
      "source": [
        "df.groupby('Class').agg({'Sepal.Length' : ['min', 'max', 'mean', 'std'], 'Sepal.Width' : ['min', 'max', 'mean', 'std'], 'Petal.Width' : ['min', 'max', 'mean', 'std'], 'Petal.Length' : ['min', 'max', 'mean', 'std']})"
      ],
      "metadata": {
        "colab": {
          "base_uri": "https://localhost:8080/",
          "height": 322
        },
        "id": "bgqfAxeh24qn",
        "outputId": "046c93d8-7c4f-4326-bed5-184519d70a52"
      },
      "execution_count": 11,
      "outputs": [
        {
          "output_type": "execute_result",
          "data": {
            "text/plain": [
              "                Sepal.Length                          Sepal.Width       \\\n",
              "                         min  max      mean       std         min  max   \n",
              "Class                                                                    \n",
              "Iris-setosa              4.3  5.8  5.004082  0.355879         2.3  4.4   \n",
              "Iris-versicolor          4.9  7.0  5.936000  0.516171         2.0  3.4   \n",
              "Iris-virginica           4.9  7.9  6.588000  0.635880         2.2  3.8   \n",
              "\n",
              "                                    Petal.Width                           \\\n",
              "                     mean       std         min  max      mean       std   \n",
              "Class                                                                      \n",
              "Iris-setosa      3.416327  0.384787         0.1  0.6  0.244898  0.108130   \n",
              "Iris-versicolor  2.770000  0.313798         1.0  1.8  1.326000  0.197753   \n",
              "Iris-virginica   2.974000  0.322497         1.4  2.5  2.026000  0.274650   \n",
              "\n",
              "                Petal.Length                           \n",
              "                         min  max      mean       std  \n",
              "Class                                                  \n",
              "Iris-setosa              1.0  1.9  1.465306  0.175061  \n",
              "Iris-versicolor          3.0  5.1  4.260000  0.469911  \n",
              "Iris-virginica           4.5  6.9  5.552000  0.551895  "
            ],
            "text/html": [
              "\n",
              "  <div id=\"df-066c50c8-7805-4345-9ffb-fd1d87f6c56f\">\n",
              "    <div class=\"colab-df-container\">\n",
              "      <div>\n",
              "<style scoped>\n",
              "    .dataframe tbody tr th:only-of-type {\n",
              "        vertical-align: middle;\n",
              "    }\n",
              "\n",
              "    .dataframe tbody tr th {\n",
              "        vertical-align: top;\n",
              "    }\n",
              "\n",
              "    .dataframe thead tr th {\n",
              "        text-align: left;\n",
              "    }\n",
              "\n",
              "    .dataframe thead tr:last-of-type th {\n",
              "        text-align: right;\n",
              "    }\n",
              "</style>\n",
              "<table border=\"1\" class=\"dataframe\">\n",
              "  <thead>\n",
              "    <tr>\n",
              "      <th></th>\n",
              "      <th colspan=\"4\" halign=\"left\">Sepal.Length</th>\n",
              "      <th colspan=\"4\" halign=\"left\">Sepal.Width</th>\n",
              "      <th colspan=\"4\" halign=\"left\">Petal.Width</th>\n",
              "      <th colspan=\"4\" halign=\"left\">Petal.Length</th>\n",
              "    </tr>\n",
              "    <tr>\n",
              "      <th></th>\n",
              "      <th>min</th>\n",
              "      <th>max</th>\n",
              "      <th>mean</th>\n",
              "      <th>std</th>\n",
              "      <th>min</th>\n",
              "      <th>max</th>\n",
              "      <th>mean</th>\n",
              "      <th>std</th>\n",
              "      <th>min</th>\n",
              "      <th>max</th>\n",
              "      <th>mean</th>\n",
              "      <th>std</th>\n",
              "      <th>min</th>\n",
              "      <th>max</th>\n",
              "      <th>mean</th>\n",
              "      <th>std</th>\n",
              "    </tr>\n",
              "    <tr>\n",
              "      <th>Class</th>\n",
              "      <th></th>\n",
              "      <th></th>\n",
              "      <th></th>\n",
              "      <th></th>\n",
              "      <th></th>\n",
              "      <th></th>\n",
              "      <th></th>\n",
              "      <th></th>\n",
              "      <th></th>\n",
              "      <th></th>\n",
              "      <th></th>\n",
              "      <th></th>\n",
              "      <th></th>\n",
              "      <th></th>\n",
              "      <th></th>\n",
              "      <th></th>\n",
              "    </tr>\n",
              "  </thead>\n",
              "  <tbody>\n",
              "    <tr>\n",
              "      <th>Iris-setosa</th>\n",
              "      <td>4.3</td>\n",
              "      <td>5.8</td>\n",
              "      <td>5.004082</td>\n",
              "      <td>0.355879</td>\n",
              "      <td>2.3</td>\n",
              "      <td>4.4</td>\n",
              "      <td>3.416327</td>\n",
              "      <td>0.384787</td>\n",
              "      <td>0.1</td>\n",
              "      <td>0.6</td>\n",
              "      <td>0.244898</td>\n",
              "      <td>0.108130</td>\n",
              "      <td>1.0</td>\n",
              "      <td>1.9</td>\n",
              "      <td>1.465306</td>\n",
              "      <td>0.175061</td>\n",
              "    </tr>\n",
              "    <tr>\n",
              "      <th>Iris-versicolor</th>\n",
              "      <td>4.9</td>\n",
              "      <td>7.0</td>\n",
              "      <td>5.936000</td>\n",
              "      <td>0.516171</td>\n",
              "      <td>2.0</td>\n",
              "      <td>3.4</td>\n",
              "      <td>2.770000</td>\n",
              "      <td>0.313798</td>\n",
              "      <td>1.0</td>\n",
              "      <td>1.8</td>\n",
              "      <td>1.326000</td>\n",
              "      <td>0.197753</td>\n",
              "      <td>3.0</td>\n",
              "      <td>5.1</td>\n",
              "      <td>4.260000</td>\n",
              "      <td>0.469911</td>\n",
              "    </tr>\n",
              "    <tr>\n",
              "      <th>Iris-virginica</th>\n",
              "      <td>4.9</td>\n",
              "      <td>7.9</td>\n",
              "      <td>6.588000</td>\n",
              "      <td>0.635880</td>\n",
              "      <td>2.2</td>\n",
              "      <td>3.8</td>\n",
              "      <td>2.974000</td>\n",
              "      <td>0.322497</td>\n",
              "      <td>1.4</td>\n",
              "      <td>2.5</td>\n",
              "      <td>2.026000</td>\n",
              "      <td>0.274650</td>\n",
              "      <td>4.5</td>\n",
              "      <td>6.9</td>\n",
              "      <td>5.552000</td>\n",
              "      <td>0.551895</td>\n",
              "    </tr>\n",
              "  </tbody>\n",
              "</table>\n",
              "</div>\n",
              "      <button class=\"colab-df-convert\" onclick=\"convertToInteractive('df-066c50c8-7805-4345-9ffb-fd1d87f6c56f')\"\n",
              "              title=\"Convert this dataframe to an interactive table.\"\n",
              "              style=\"display:none;\">\n",
              "        \n",
              "  <svg xmlns=\"http://www.w3.org/2000/svg\" height=\"24px\"viewBox=\"0 0 24 24\"\n",
              "       width=\"24px\">\n",
              "    <path d=\"M0 0h24v24H0V0z\" fill=\"none\"/>\n",
              "    <path d=\"M18.56 5.44l.94 2.06.94-2.06 2.06-.94-2.06-.94-.94-2.06-.94 2.06-2.06.94zm-11 1L8.5 8.5l.94-2.06 2.06-.94-2.06-.94L8.5 2.5l-.94 2.06-2.06.94zm10 10l.94 2.06.94-2.06 2.06-.94-2.06-.94-.94-2.06-.94 2.06-2.06.94z\"/><path d=\"M17.41 7.96l-1.37-1.37c-.4-.4-.92-.59-1.43-.59-.52 0-1.04.2-1.43.59L10.3 9.45l-7.72 7.72c-.78.78-.78 2.05 0 2.83L4 21.41c.39.39.9.59 1.41.59.51 0 1.02-.2 1.41-.59l7.78-7.78 2.81-2.81c.8-.78.8-2.07 0-2.86zM5.41 20L4 18.59l7.72-7.72 1.47 1.35L5.41 20z\"/>\n",
              "  </svg>\n",
              "      </button>\n",
              "      \n",
              "  <style>\n",
              "    .colab-df-container {\n",
              "      display:flex;\n",
              "      flex-wrap:wrap;\n",
              "      gap: 12px;\n",
              "    }\n",
              "\n",
              "    .colab-df-convert {\n",
              "      background-color: #E8F0FE;\n",
              "      border: none;\n",
              "      border-radius: 50%;\n",
              "      cursor: pointer;\n",
              "      display: none;\n",
              "      fill: #1967D2;\n",
              "      height: 32px;\n",
              "      padding: 0 0 0 0;\n",
              "      width: 32px;\n",
              "    }\n",
              "\n",
              "    .colab-df-convert:hover {\n",
              "      background-color: #E2EBFA;\n",
              "      box-shadow: 0px 1px 2px rgba(60, 64, 67, 0.3), 0px 1px 3px 1px rgba(60, 64, 67, 0.15);\n",
              "      fill: #174EA6;\n",
              "    }\n",
              "\n",
              "    [theme=dark] .colab-df-convert {\n",
              "      background-color: #3B4455;\n",
              "      fill: #D2E3FC;\n",
              "    }\n",
              "\n",
              "    [theme=dark] .colab-df-convert:hover {\n",
              "      background-color: #434B5C;\n",
              "      box-shadow: 0px 1px 3px 1px rgba(0, 0, 0, 0.15);\n",
              "      filter: drop-shadow(0px 1px 2px rgba(0, 0, 0, 0.3));\n",
              "      fill: #FFFFFF;\n",
              "    }\n",
              "  </style>\n",
              "\n",
              "      <script>\n",
              "        const buttonEl =\n",
              "          document.querySelector('#df-066c50c8-7805-4345-9ffb-fd1d87f6c56f button.colab-df-convert');\n",
              "        buttonEl.style.display =\n",
              "          google.colab.kernel.accessAllowed ? 'block' : 'none';\n",
              "\n",
              "        async function convertToInteractive(key) {\n",
              "          const element = document.querySelector('#df-066c50c8-7805-4345-9ffb-fd1d87f6c56f');\n",
              "          const dataTable =\n",
              "            await google.colab.kernel.invokeFunction('convertToInteractive',\n",
              "                                                     [key], {});\n",
              "          if (!dataTable) return;\n",
              "\n",
              "          const docLinkHtml = 'Like what you see? Visit the ' +\n",
              "            '<a target=\"_blank\" href=https://colab.research.google.com/notebooks/data_table.ipynb>data table notebook</a>'\n",
              "            + ' to learn more about interactive tables.';\n",
              "          element.innerHTML = '';\n",
              "          dataTable['output_type'] = 'display_data';\n",
              "          await google.colab.output.renderOutput(dataTable, element);\n",
              "          const docLink = document.createElement('div');\n",
              "          docLink.innerHTML = docLinkHtml;\n",
              "          element.appendChild(docLink);\n",
              "        }\n",
              "      </script>\n",
              "    </div>\n",
              "  </div>\n",
              "  "
            ]
          },
          "metadata": {},
          "execution_count": 11
        }
      ]
    },
    {
      "cell_type": "code",
      "source": [
        "df.boxplot('Sepal.Length', 'Class')"
      ],
      "metadata": {
        "colab": {
          "base_uri": "https://localhost:8080/",
          "height": 373
        },
        "id": "6NTBezjX3h4f",
        "outputId": "d32b5943-ed3b-4a60-d29a-ec3b38715b35"
      },
      "execution_count": 12,
      "outputs": [
        {
          "output_type": "stream",
          "name": "stderr",
          "text": [
            "/usr/local/lib/python3.7/dist-packages/matplotlib/cbook/__init__.py:1376: VisibleDeprecationWarning: Creating an ndarray from ragged nested sequences (which is a list-or-tuple of lists-or-tuples-or ndarrays with different lengths or shapes) is deprecated. If you meant to do this, you must specify 'dtype=object' when creating the ndarray.\n",
            "  X = np.atleast_1d(X.T if isinstance(X, np.ndarray) else np.asarray(X))\n"
          ]
        },
        {
          "output_type": "execute_result",
          "data": {
            "text/plain": [
              "<matplotlib.axes._subplots.AxesSubplot at 0x7f884cb7b650>"
            ]
          },
          "metadata": {},
          "execution_count": 12
        },
        {
          "output_type": "display_data",
          "data": {
            "text/plain": [
              "<Figure size 432x288 with 1 Axes>"
            ],
            "image/png": "[encoded data removed]"
          },
          "metadata": {
            "needs_background": "light"
          }
        }
      ]
    },
    {
      "cell_type": "markdown",
      "source": [
        "# Boxplot is distribution of data, top and bottom lines=max and min, mean is the dark line in the middle, quartiles based on box"
      ],
      "metadata": {
        "id": "zqh4rDul3o4V"
      }
    },
    {
      "cell_type": "code",
      "source": [
        "df.boxplot('Sepal.Width', 'Class')"
      ],
      "metadata": {
        "colab": {
          "base_uri": "https://localhost:8080/",
          "height": 373
        },
        "id": "tReMLvNg4NDP",
        "outputId": "b9722ea9-a269-414b-8c7c-e67a6efdf055"
      },
      "execution_count": 13,
      "outputs": [
        {
          "output_type": "stream",
          "name": "stderr",
          "text": [
            "/usr/local/lib/python3.7/dist-packages/matplotlib/cbook/__init__.py:1376: VisibleDeprecationWarning: Creating an ndarray from ragged nested sequences (which is a list-or-tuple of lists-or-tuples-or ndarrays with different lengths or shapes) is deprecated. If you meant to do this, you must specify 'dtype=object' when creating the ndarray.\n",
            "  X = np.atleast_1d(X.T if isinstance(X, np.ndarray) else np.asarray(X))\n"
          ]
        },
        {
          "output_type": "execute_result",
          "data": {
            "text/plain": [
              "<matplotlib.axes._subplots.AxesSubplot at 0x7f8849f66290>"
            ]
          },
          "metadata": {},
          "execution_count": 13
        },
        {
          "output_type": "display_data",
          "data": {
            "text/plain": [
              "<Figure size 432x288 with 1 Axes>"
            ],
            "image/png": "[encoded data removed]"
          },
          "metadata": {
            "needs_background": "light"
          }
        }
      ]
    },
    {
      "cell_type": "code",
      "source": [
        "df.boxplot('Petal.Length', 'Class')"
      ],
      "metadata": {
        "colab": {
          "base_uri": "https://localhost:8080/",
          "height": 373
        },
        "id": "frawSOlz4PUn",
        "outputId": "bfc66c6c-0dd2-4407-e1d0-0d56e3a00db5"
      },
      "execution_count": 14,
      "outputs": [
        {
          "output_type": "stream",
          "name": "stderr",
          "text": [
            "/usr/local/lib/python3.7/dist-packages/matplotlib/cbook/__init__.py:1376: VisibleDeprecationWarning: Creating an ndarray from ragged nested sequences (which is a list-or-tuple of lists-or-tuples-or ndarrays with different lengths or shapes) is deprecated. If you meant to do this, you must specify 'dtype=object' when creating the ndarray.\n",
            "  X = np.atleast_1d(X.T if isinstance(X, np.ndarray) else np.asarray(X))\n"
          ]
        },
        {
          "output_type": "execute_result",
          "data": {
            "text/plain": [
              "<matplotlib.axes._subplots.AxesSubplot at 0x7f884a597510>"
            ]
          },
          "metadata": {},
          "execution_count": 14
        },
        {
          "output_type": "display_data",
          "data": {
            "text/plain": [
              "<Figure size 432x288 with 1 Axes>"
            ],
            "image/png": "[encoded data removed]"
          },
          "metadata": {
            "needs_background": "light"
          }
        }
      ]
    },
    {
      "cell_type": "code",
      "source": [
        "df.boxplot('Petal.Width', 'Class')"
      ],
      "metadata": {
        "colab": {
          "base_uri": "https://localhost:8080/",
          "height": 373
        },
        "id": "CulBSR7l4R94",
        "outputId": "e7dcd985-88d2-44e7-9324-68142e46e608"
      },
      "execution_count": 15,
      "outputs": [
        {
          "output_type": "stream",
          "name": "stderr",
          "text": [
            "/usr/local/lib/python3.7/dist-packages/matplotlib/cbook/__init__.py:1376: VisibleDeprecationWarning: Creating an ndarray from ragged nested sequences (which is a list-or-tuple of lists-or-tuples-or ndarrays with different lengths or shapes) is deprecated. If you meant to do this, you must specify 'dtype=object' when creating the ndarray.\n",
            "  X = np.atleast_1d(X.T if isinstance(X, np.ndarray) else np.asarray(X))\n"
          ]
        },
        {
          "output_type": "execute_result",
          "data": {
            "text/plain": [
              "<matplotlib.axes._subplots.AxesSubplot at 0x7f8849e4bc10>"
            ]
          },
          "metadata": {},
          "execution_count": 15
        },
        {
          "output_type": "display_data",
          "data": {
            "text/plain": [
              "<Figure size 432x288 with 1 Axes>"
            ],
            "image/png": "[encoded data removed]"
          },
          "metadata": {
            "needs_background": "light"
          }
        }
      ]
    }
  ]
}